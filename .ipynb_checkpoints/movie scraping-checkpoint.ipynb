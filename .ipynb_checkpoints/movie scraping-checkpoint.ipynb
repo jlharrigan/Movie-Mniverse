{
 "cells": [
  {
   "cell_type": "code",
   "execution_count": 782,
   "id": "1793ee74",
   "metadata": {},
   "outputs": [],
   "source": [
    "import pandas as pd\n",
    "import numpy as np\n",
    "import matplotlib.pyplot as plt\n",
    "import seaborn as sns\n",
    "import pickle\n",
    "import time\n",
    "import selenium\n",
    "from selenium import webdriver\n",
    "from selenium.webdriver.common.by import By\n",
    "import datetime\n",
    "from bs4 import BeautifulSoup\n",
    "import requests\n",
    "import string\n",
    "from concurrent.futures import ThreadPoolExecutor\n",
    "import copy\n",
    "\n",
    "import warnings\n",
    "warnings.filterwarnings(\"ignore\")\n"
   ]
  },
  {
   "cell_type": "code",
   "execution_count": 101,
   "id": "b5105388",
   "metadata": {},
   "outputs": [],
   "source": [
    "driver = webdriver.Chrome()\n",
    "driver.get('https://www.imdb.com/feature/genre/?ref_=nv_ch_gr')"
   ]
  },
  {
   "cell_type": "code",
   "execution_count": 102,
   "id": "93d38f3b",
   "metadata": {},
   "outputs": [],
   "source": [
    "titles = []\n",
    "\n",
    "def get_movie(url, driver):\n",
    "    driver.get(url)\n",
    "    titles.append(driver.find_element(By.XPATH, '//*[@id=\"__next\"]/main/div/section[1]/section/div[3]/section/section/div[2]/div[1]/h1').text)\n"
   ]
  },
  {
   "cell_type": "code",
   "execution_count": 103,
   "id": "ce0b7ed8",
   "metadata": {},
   "outputs": [],
   "source": [
    "genres = driver.find_elements(By.XPATH, '//*[@id=\"main\"]/div[1]/span/div/div/div/div/div/*')"
   ]
  },
  {
   "cell_type": "code",
   "execution_count": 104,
   "id": "33e82a73",
   "metadata": {},
   "outputs": [],
   "source": [
    "ghs = []\n",
    "for i in [0,2,4]:\n",
    "    ghs.append(genres[i].find_element(By.XPATH, 'div/div/div/a').get_attribute('href'))"
   ]
  },
  {
   "cell_type": "code",
   "execution_count": 105,
   "id": "3cc1a191",
   "metadata": {},
   "outputs": [],
   "source": [
    "driver.get(ghs[0])"
   ]
  },
  {
   "cell_type": "code",
   "execution_count": 106,
   "id": "3bc5319b",
   "metadata": {},
   "outputs": [],
   "source": [
    "movies = driver.find_elements(By.XPATH, '//*[@id=\"main\"]/div/div[3]/div/*')"
   ]
  },
  {
   "cell_type": "code",
   "execution_count": 107,
   "id": "6a5db66e",
   "metadata": {},
   "outputs": [],
   "source": [
    "movie_hrefs = []\n",
    "for movie in movies:\n",
    "    movie_hrefs.append(movie.find_element(By.XPATH, 'div[2]/a').get_attribute('href'))\n",
    "    "
   ]
  },
  {
   "cell_type": "code",
   "execution_count": 108,
   "id": "1743f86b",
   "metadata": {},
   "outputs": [],
   "source": [
    "for href in movie_hrefs:\n",
    "    get_movie(href, driver)"
   ]
  },
  {
   "cell_type": "code",
   "execution_count": null,
   "id": "5d8af8c6",
   "metadata": {},
   "outputs": [],
   "source": []
  },
  {
   "cell_type": "code",
   "execution_count": null,
   "id": "d34d71b1",
   "metadata": {},
   "outputs": [],
   "source": [
    "driver.find_element(By.XPATH, 'div[2]/h3/a').get_attribute('href')"
   ]
  },
  {
   "cell_type": "code",
   "execution_count": null,
   "id": "286c2317",
   "metadata": {},
   "outputs": [],
   "source": []
  },
  {
   "cell_type": "code",
   "execution_count": null,
   "id": "f28374af",
   "metadata": {},
   "outputs": [],
   "source": []
  },
  {
   "cell_type": "code",
   "execution_count": null,
   "id": "8678312e",
   "metadata": {},
   "outputs": [],
   "source": []
  },
  {
   "cell_type": "code",
   "execution_count": 151,
   "id": "fbdb5d7e",
   "metadata": {},
   "outputs": [],
   "source": [
    "from bs4 import BeautifulSoup\n",
    "import requests\n",
    "import string"
   ]
  },
  {
   "cell_type": "code",
   "execution_count": 214,
   "id": "6ecdfd1e",
   "metadata": {},
   "outputs": [],
   "source": [
    "recg = requests.get('https://www.imdb.com/feature/genre/?ref_=nv_ch_gr')\n",
    "soupg = BeautifulSoup(recg.content, 'html.parser')"
   ]
  },
  {
   "cell_type": "code",
   "execution_count": 218,
   "id": "8e489607",
   "metadata": {},
   "outputs": [],
   "source": [
    "imgs = soupg.find_all('div', class_= 'image')"
   ]
  },
  {
   "cell_type": "code",
   "execution_count": 293,
   "id": "7a7a1ef2",
   "metadata": {},
   "outputs": [],
   "source": [
    "genre_urls = []\n",
    "for img in imgs:\n",
    "    draft = img.a['href']\n",
    "    genre_urls.append(draft[:33] + '/' + draft[33: 74] + '&title_type=movie&ref_=adv_explore_rhs')"
   ]
  },
  {
   "cell_type": "code",
   "execution_count": 973,
   "id": "e4e9ea03",
   "metadata": {},
   "outputs": [],
   "source": [
    "all_urls = []\n",
    "all_titles = []\n",
    "all_times = []\n",
    "\n",
    "#for genre in genre_urls[:-1]:\n",
    "    #get_genre(genre)"
   ]
  },
  {
   "cell_type": "code",
   "execution_count": 1141,
   "id": "81247f87",
   "metadata": {},
   "outputs": [],
   "source": [
    "all_u = []\n",
    "all_titles = []\n",
    "rows = []\n",
    "comedy = pd.DataFrame(columns = ['id', 'title', 'release_date', 'run_time', 'm_rating', 'review_rating', 'num_review', 'description', 'director', 'writer', 'actors', 'genres' , 'tags', 'Country', 'language', 'prod_comp', 'budget', 'dom_gross', 'world_gross'])"
   ]
  },
  {
   "cell_type": "code",
   "execution_count": 1142,
   "id": "202ca9dc",
   "metadata": {},
   "outputs": [],
   "source": [
    "def get_genre(genre_url):\n",
    "    print(genre_url)\n",
    "    start = datetime.datetime.now()\n",
    "    \n",
    "    req_cat = requests.get(genre_url)\n",
    "    soup_cat = BeautifulSoup(req_cat.content, 'html.parser')\n",
    "    movies = soup_cat.find_all('div', class_='lister-item-image float-left')\n",
    "    for movie in movies:\n",
    "        if movie.a['href'] not in all_u:\n",
    "            all_u.append(movie.a['href'])\n",
    "    \n",
    "    for num in np.arange(51,101,50):\n",
    "        get_urls(num, genre_url)\n",
    "        \n",
    "    with ThreadPoolExecutor(max_workers = 20) as executor:\n",
    "        executor.map(get_title, all_u)\n",
    "    \n",
    "    end = datetime.datetime.now()\n",
    "    return (end - start)"
   ]
  },
  {
   "cell_type": "code",
   "execution_count": 1143,
   "id": "633eeed6",
   "metadata": {},
   "outputs": [],
   "source": [
    "def get_urls(num, genre_url):\n",
    "    print('running')\n",
    "    req_cat2 = requests.get((genre_url[:66] + 'start=' + str(num) + '&' + genre_url[66: -3] + 'nxt'))\n",
    "    soup_cat2 = BeautifulSoup(req_cat2.content, 'html.parser')\n",
    "    movies = soup_cat2.find_all('div', class_='lister-item-image float-left')\n",
    "    for movie in movies:\n",
    "        if movie.a['href'] not in all_u:\n",
    "            all_u.append(movie.a['href'])\n",
    "    print('done')"
   ]
  },
  {
   "cell_type": "code",
   "execution_count": 1144,
   "id": "349aa5f4",
   "metadata": {},
   "outputs": [],
   "source": [
    "def get_title(movie_url):\n",
    "    url = movie_url\n",
    "    req1 = requests.get('https://www.imdb.com/' + url, headers = {\"User-Agent\": \"Mozilla/5.0 (Windows NT 10.0; Win64; x64) AppleWebKit/537.36 (KHTML, like Gecko) Chrome/81.0.4044.138 Safari/537.36\"})\n",
    "    soup2 = BeautifulSoup(req1.content, 'html.parser')\n",
    "    title = ''\n",
    "    try:\n",
    "        title = soup2.find('h1', class_ = 'sc-b73cd867-0 eKrKux').text\n",
    "    except:\n",
    "        try: \n",
    "            title = soup2.find('h1', class_ = 'sc-b73cd867-0 fbOhB').text\n",
    "        except:\n",
    "            title = soup2.find('h1', class_ = 'sc-b73cd867-0 cAMrQp').text\n",
    "            \n",
    "    wr = soup2.find_all('ul', role = \"presentation\", class_ = 'ipc-inline-list ipc-inline-list--show-dividers ipc-inline-list--inline ipc-metadata-list-item__list-content baseAlt')\n",
    "    writers = set([e.text for e in wr[1].findChildren() if ')' not in e.text])\n",
    "    director = wr[0].text\n",
    "    rows.append({'id' : movie_url, 'title': title, 'director': director, 'writer':writers})"
   ]
  },
  {
   "cell_type": "code",
   "execution_count": 1145,
   "id": "5e695e4f",
   "metadata": {},
   "outputs": [
    {
     "name": "stdout",
     "output_type": "stream",
     "text": [
      "https://www.imdb.com/search/title/?title_type=movie&genres=comedy&explore=title_type,genres&ref_=adv_prv\n",
      "running\n",
      "done\n"
     ]
    },
    {
     "data": {
      "text/plain": [
       "datetime.timedelta(seconds=9, microseconds=492809)"
      ]
     },
     "execution_count": 1145,
     "metadata": {},
     "output_type": "execute_result"
    }
   ],
   "source": [
    "get_genre('https://www.imdb.com/search/title/?title_type=movie&genres=comedy&explore=title_type,genres&ref_=adv_prv')"
   ]
  },
  {
   "cell_type": "code",
   "execution_count": 1146,
   "id": "a722f54c",
   "metadata": {},
   "outputs": [],
   "source": [
    "for row in rows:\n",
    "    comedy = comedy.append(row, ignore_index=True)"
   ]
  },
  {
   "cell_type": "code",
   "execution_count": 1147,
   "id": "b544e3ab",
   "metadata": {},
   "outputs": [
    {
     "data": {
      "text/plain": [
       "0               {Jean Shepherd, Bob Clark, Leigh Brown}\n",
       "1                          {Dan Kwan, Daniel Scheinert}\n",
       "2                                    {David O. Russell}\n",
       "3                           {Paul Leyden, Andrew Klein}\n",
       "4                        {Yogesh Chandekar, Vasan Bala}\n",
       "                            ...                        \n",
       "95                      {Reid Carolin, Brett Rodriguez}\n",
       "96    {Caroline Thompson, Larry Wilson, Charles Addams}\n",
       "97                           {Roald Dahl, Dennis Kelly}\n",
       "98            {Darren Lemke, Bill Parker, Henry Gayden}\n",
       "99                                     {Richard Curtis}\n",
       "Name: writer, Length: 100, dtype: object"
      ]
     },
     "execution_count": 1147,
     "metadata": {},
     "output_type": "execute_result"
    }
   ],
   "source": [
    "comedy.writer"
   ]
  },
  {
   "cell_type": "code",
   "execution_count": 1115,
   "id": "2b7bc838",
   "metadata": {},
   "outputs": [],
   "source": [
    "url = '/title/tt9764362/'\n",
    "#url = '/title/tt1596342/'\n",
    "#url = '/title/tt14715170/'\n",
    "req1 = requests.get('https://www.imdb.com/' + url, headers = {\"User-Agent\": \"Mozilla/5.0 (Windows NT 10.0; Win64; x64) AppleWebKit/537.36 (KHTML, like Gecko) Chrome/81.0.4044.138 Safari/537.36\"})\n",
    "soup2 = BeautifulSoup(req1.content, 'html.parser')\n"
   ]
  },
  {
   "cell_type": "code",
   "execution_count": 1116,
   "id": "f13f97ee",
   "metadata": {},
   "outputs": [],
   "source": [
    "wr = soup2.find_all('ul', role = \"presentation\", class_ = 'ipc-inline-list ipc-inline-list--show-dividers ipc-inline-list--inline ipc-metadata-list-item__list-content baseAlt')"
   ]
  },
  {
   "cell_type": "code",
   "execution_count": 1117,
   "id": "88ec4748",
   "metadata": {},
   "outputs": [],
   "source": [
    "writers = wr[1].findChildren()\n",
    "w = set([e.text for e in writers if 'by' not in e.text])"
   ]
  },
  {
   "cell_type": "code",
   "execution_count": 1118,
   "id": "318dd95c",
   "metadata": {},
   "outputs": [
    {
     "data": {
      "text/plain": [
       "{'Seth Reiss', 'Will Tracy'}"
      ]
     },
     "execution_count": 1118,
     "metadata": {},
     "output_type": "execute_result"
    }
   ],
   "source": [
    "w"
   ]
  },
  {
   "cell_type": "code",
   "execution_count": 1122,
   "id": "576be075",
   "metadata": {},
   "outputs": [
    {
     "data": {
      "text/plain": [
       "'Mark Mylod'"
      ]
     },
     "execution_count": 1122,
     "metadata": {},
     "output_type": "execute_result"
    }
   ],
   "source": [
    "wr[0].text"
   ]
  },
  {
   "cell_type": "code",
   "execution_count": null,
   "id": "513af323",
   "metadata": {},
   "outputs": [],
   "source": []
  },
  {
   "cell_type": "code",
   "execution_count": null,
   "id": "a90f6fca",
   "metadata": {},
   "outputs": [],
   "source": []
  },
  {
   "cell_type": "code",
   "execution_count": null,
   "id": "d57566e8",
   "metadata": {},
   "outputs": [],
   "source": []
  }
 ],
 "metadata": {
  "kernelspec": {
   "display_name": "Python 3 (ipykernel)",
   "language": "python",
   "name": "python3"
  },
  "language_info": {
   "codemirror_mode": {
    "name": "ipython",
    "version": 3
   },
   "file_extension": ".py",
   "mimetype": "text/x-python",
   "name": "python",
   "nbconvert_exporter": "python",
   "pygments_lexer": "ipython3",
   "version": "3.9.12"
  }
 },
 "nbformat": 4,
 "nbformat_minor": 5
}
